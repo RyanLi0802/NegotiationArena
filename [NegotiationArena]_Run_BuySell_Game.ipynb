{
  "nbformat": 4,
  "nbformat_minor": 0,
  "metadata": {
    "colab": {
      "provenance": [],
      "collapsed_sections": [
        "zpPRxAO9qzqA"
      ]
    },
    "kernelspec": {
      "name": "python3",
      "display_name": "Python 3"
    },
    "language_info": {
      "name": "python"
    }
  },
  "cells": [
    {
      "cell_type": "markdown",
      "source": [
        "# How Well Can LLMs Negotiate? NegotiationArena. Platform and Analysis\n",
        "\n",
        "[![Open In Colab](https://colab.research.google.com/assets/colab-badge.svg)](https://colab.research.google.com/drive/1Z1M97k4GEf2_v48cdA96BANTAp0yK2IM?usp=sharing)\n",
        "[![Arxiv Preprint](https://img.shields.io/badge/arXiv-2402.05863-0.svg)](https://arxiv.org/abs/2402.05863)\n",
        "[![License: MIT](https://img.shields.io/badge/License-MIT-yellow.svg)](https://opensource.org/licenses/MIT)\n",
        "[![GitHub](https://img.shields.io/badge/Code-GitHub-blue?logo=github)](https://github.com/vinid/NegotiationArena)\n",
        "\n",
        "\n",
        "NegotiationArena is a platform to develop games to better understand how agents interact with each other to solve engotiation problems. In the image below you see an example of negotiation between the agents.\n",
        "\n",
        "<div align=\"center\">\n",
        "<img src=\"https://github.com/vinid/NegotiationArena/blob/main/figures/negotiation_intro.jpg?raw=true\" width=400>\n",
        "</div>\n",
        "\n"
      ],
      "metadata": {
        "id": "WZunzr9zg_8I"
      }
    },
    {
      "cell_type": "markdown",
      "source": [
        "## Who is this tutorial for\n",
        "\n",
        "**If you want to run one of the games. The game we are going to run is the BuySell game.**\n",
        "\n",
        "\n",
        "From the paper:\n",
        "\n",
        "\n",
        "> We introduce a seller and buyer game involving two agents, one looking to sell a set of resources and one looking to buy them, similar to other approaches in the literature. We imbue agents with some beliefs about the object being sold, but unlike the ultimatum game, the seller and buyer game is an incomplete information game, i.e., players do not have complete information about other players (e.g., their beliefs). Only the seller is aware of the production cost of the object, and only the buyer is assigned and is aware of their willingness to pay for the object. Given these beliefs, the seller and the buyer are prompted to sell and buy the object, respectively. The seller starts first: reproducing a scenario in which the object is already on sale.\n",
        "\n",
        "Here we run the BuySell game.\n",
        "\n",
        "\n"
      ],
      "metadata": {
        "id": "HtfyB73Lh5Wm"
      }
    },
    {
      "cell_type": "markdown",
      "source": [
        "### **Let's Start!**\n",
        "\n",
        "We now install and load what we need to run the games.\n",
        "\n",
        "\n"
      ],
      "metadata": {
        "id": "tPy3kvmKtS7p"
      }
    },
    {
      "cell_type": "code",
      "source": [
        "%%capture\n",
        "\n",
        "!git clone https://github.com/vinid/NegotiationArena/\n",
        "!pip install -r NegotiationArena/requirements.txt"
      ],
      "metadata": {
        "id": "jAFCUnHtg3AS"
      },
      "execution_count": null,
      "outputs": []
    },
    {
      "cell_type": "code",
      "source": [
        "import sys\n",
        "from dotenv import load_dotenv\n",
        "\n",
        "sys.path.append('NegotiationArena/')"
      ],
      "metadata": {
        "id": "x-lAwjjio2gF"
      },
      "execution_count": null,
      "outputs": []
    },
    {
      "cell_type": "code",
      "source": [
        "from negotiationarena.agents.chatgpt import ChatGPTAgent\n",
        "from negotiationarena.game_objects.resource import Resources\n",
        "from negotiationarena.game_objects.goal import BuyerGoal, SellerGoal\n",
        "from negotiationarena.game_objects.valuation import Valuation\n",
        "from negotiationarena.constants import AGENT_ONE, AGENT_TWO, MONEY_TOKEN\n",
        "import traceback\n",
        "from games.buy_sell_game.game import BuySellGame\n"
      ],
      "metadata": {
        "id": "VKSUU56boOtb"
      },
      "execution_count": null,
      "outputs": []
    },
    {
      "cell_type": "markdown",
      "source": [
        "## **Important Background**\n",
        "\n",
        "\n",
        "We first need to introduce a game prompt. This prompt will describe the rules of the game.\n",
        "\n",
        "By default, we support a TAG/XML-like language for communcation. Thus we will ask all the agents to follow this formatting.\n",
        "\n",
        "```\n",
        "<answer> REJECT </answer>\n",
        "<message> I don't like your trade, here's my counter offer. </message>\n",
        "<trade> Player RED Gives X:50 | Player Blue Gives Y:40 </trade>\n",
        "```\n",
        "\n"
      ],
      "metadata": {
        "id": "mTE_viCPr2wL"
      }
    },
    {
      "cell_type": "markdown",
      "source": [
        "## **Prompt**\n",
        "\n",
        "Under this cell you have the entire prompt of the game. The prompt you see is the prompt of the seller. The buyer's one is slightly different (the buyer has a different goal)\n",
        "\n",
        "\n"
      ],
      "metadata": {
        "id": "zpPRxAO9qzqA"
      }
    },
    {
      "cell_type": "markdown",
      "source": [
        "```You are playing game where you are buying or selling an object. There is only one object for sale/purcahse.\n",
        "\n",
        "Player RED is going to sell one object. Player BLUE gives ZUP to buy resources.\n",
        "\n",
        "RULES:\n",
        "\n",
        "1. You must always respond with:\n",
        "\n",
        "    A) Propose a trade with (you can only trade in integer amounts, not decimals):\n",
        "    <player answer> PROPOSAL </player answer>\n",
        "    <newly proposed trade> Player RED Gives X: amount, ...| Player BLUE Gives ZUP: amount </newly proposed trade>\n",
        "\n",
        "    B) Accept the trade by saying:\n",
        "    <player answer> ACCEPT </player answer>\n",
        "    <newly proposed trade> NONE </newly proposed trade>\n",
        "\n",
        "    C) Reject and end the game:\n",
        "    <player answer> REJECT </player answer>\n",
        "    <newly proposed trade> NONE </newly proposed trade>\n",
        "\n",
        "    Note: The game will end if one of the players ACCEPT OR REJECT. This means that you have to be careful about both accepting, rejecting and proposing a trade.\n",
        "\n",
        "2. You are allowed at most 4 proposals of your own to complete the game, after which you can only reply with ACCEPT or REJECT.\n",
        "DO NOT propose a new trade after 4 proposals. Your limit for proposals is 4.\n",
        "\n",
        "3. You can reason step by step on why you are A) proposing, B) rejecting and C) accepting a trade with:\n",
        "\n",
        "<reason> [add reasoning] </reason> add as much text as you want\n",
        "\n",
        "This information will not be sent to the other player. It is just for you to keep track of your reasoning.\n",
        "\n",
        "4. At each turn send messages to each other by using the following format:\n",
        "\n",
        "<message>your message here</message>\n",
        "\n",
        "You can decide if you want disclose your resources, goals, cost and willingness to pay in the message.\n",
        "\n",
        "\n",
        "Here is what you have access to:\n",
        "\n",
        "Object that is being bought/sold: X\n",
        "<my resources> X: 1 </my resources>\n",
        "<my goals> Sell resources for <ZUP>. It costed X: 40 ZUP to produce the resources </my goals>,\n",
        "\n",
        "\n",
        "All the responses you send should contain the following and in this order:\n",
        "\n",
        "\n",
        "<proposal count> [add here (inclusive of current)] </proposal count>\n",
        "<my resources> [add here] </my resources>\n",
        "<my goals> [add here] </my goals>\n",
        "<reason> [add here] </reason>\n",
        "<player answer> [add here] </player answer>\n",
        "<newly proposed trade> [add here] </newly proposed trade>\n",
        "<message> [add here] </message\n",
        "\n",
        "\n",
        "Please be sure to include all.\n",
        "```"
      ],
      "metadata": {
        "id": "n6IXWU8ErUGH"
      }
    },
    {
      "cell_type": "markdown",
      "source": [
        "## **Setup**"
      ],
      "metadata": {
        "id": "BMVnZBddrR1j"
      }
    },
    {
      "cell_type": "markdown",
      "source": [
        "**You need to upload an environment file called \"env\" that should have the following content:**\n",
        "\n",
        "```\n",
        "OPENAI_API_KEY=\n",
        "```\n",
        "\n",
        "Your colab session is local to your account, but if you don't like putting your OpenAI key in colab i'd just create a throwaway one just for the sake of playing with the example.\n",
        "\n",
        "\n",
        "**Be mindful** of what you do! These games should end very quickly and does should not cost much, but you might end up paying more if you make the agents chat for 1000 turns!"
      ],
      "metadata": {
        "id": "o2VR3B_ionnU"
      }
    },
    {
      "cell_type": "code",
      "source": [
        "# the project assumes you have your environment variable in an env file.\n",
        "load_dotenv(\"env\")"
      ],
      "metadata": {
        "colab": {
          "base_uri": "https://localhost:8080/"
        },
        "id": "gDE33Cz1otyP",
        "outputId": "b3348926-5629-49b8-f68e-4d19e06e8a5a"
      },
      "execution_count": null,
      "outputs": [
        {
          "output_type": "execute_result",
          "data": {
            "text/plain": [
              "True"
            ]
          },
          "metadata": {},
          "execution_count": 5
        }
      ]
    },
    {
      "cell_type": "markdown",
      "source": [
        "Note, **some games might break because gpt-4 might forget to follow instructions.** That is why we currently have a **try/catch** statement."
      ],
      "metadata": {
        "id": "DcRET8u5oY_V"
      }
    },
    {
      "cell_type": "markdown",
      "source": [
        "## **Base Game**\n",
        "\n",
        "Now let's look at the base game! We have added some comments on all the lines to make explanations of what's happening clearer."
      ],
      "metadata": {
        "id": "gG2t0Grkp820"
      }
    },
    {
      "cell_type": "code",
      "source": [
        "try:\n",
        "\n",
        "    # we implement two chatgpt4 agents.\n",
        "    a1 = ChatGPTAgent(agent_name=AGENT_ONE, model=\"gpt-4-1106-preview\")\n",
        "    a2 = ChatGPTAgent(agent_name=AGENT_TWO, model=\"gpt-4-1106-preview\")\n",
        "\n",
        "    # buy sell game\n",
        "    c = BuySellGame(\n",
        "        players=[a1, a2], # our two players\n",
        "        iterations=10, # they can interact for 10 turns\n",
        "        player_goals=[\n",
        "\n",
        "            # they have different goals, with a different valuation for those goals\n",
        "            SellerGoal(cost_of_production=Valuation({\"X\": 40})),\n",
        "            BuyerGoal(willingness_to_pay=Valuation({\"X\": 60})),\n",
        "        ],\n",
        "\n",
        "        # player 1 has X, the object to sell.\n",
        "        # player 2 has money, that here is identified by the currency ZUP.\n",
        "        player_starting_resources=[\n",
        "            Resources({\"X\": 1}),\n",
        "            Resources({MONEY_TOKEN: 100}),\n",
        "        ],\n",
        "\n",
        "        # we assign roles here, this have a reference in the prompt.\n",
        "        player_conversation_roles=[\n",
        "            f\"You are {AGENT_ONE}.\",\n",
        "            f\"You are {AGENT_TWO}.\",\n",
        "        ],\n",
        "\n",
        "        # here we can set social behaviors\n",
        "        player_social_behaviour=[\n",
        "            \"\",\n",
        "            \"\",\n",
        "        ],\n",
        "        log_dir=\"../example_logs/buysell\",\n",
        "    )\n",
        "\n",
        "    c.run()\n",
        "except Exception as e:\n",
        "    exception_type = type(e).__name__\n",
        "    exception_message = str(e)\n",
        "    stack_trace = traceback.format_exc()\n",
        "\n",
        "    # Print or use the information as needed\n",
        "    print(f\"Exception Type: {exception_type}\")\n",
        "    print(f\"Exception Message: {exception_message}\")\n",
        "    print(f\"Stack Trace:\\n{stack_trace}\")\n"
      ],
      "metadata": {
        "colab": {
          "base_uri": "https://localhost:8080/"
        },
        "id": "mOyUAJThoOwU",
        "outputId": "4b4b7801-b28f-4bd6-fba8-b27f8ecfbbce"
      },
      "execution_count": null,
      "outputs": [
        {
          "output_type": "stream",
          "name": "stdout",
          "text": [
            "State:\n",
            "current_iteration : 1\n",
            "turn : 0\n",
            "player_complete_answer : <proposal count>1</proposal count>\n",
            "<my resources> X: 1 </my resources>\n",
            "<my goals> Sell resources for ZUP. It costed X: 40 ZUP to produce the resources </my goals>\n",
            "<reason>I want to start with a proposal that allows me to make a profit considering the production cost of 40 ZUP for my resource. I'll propose a higher amount to leave room for negotiation.</reason>\n",
            "<player answer>PROPOSAL</player answer>\n",
            "<newly proposed trade> Player RED Gives X: 1 | Player BLUE Gives ZUP: 50 </newly proposed trade>\n",
            "<message>Hello Player BLUE, I have a high-quality resource X available for trade. Considering the production costs and the value it offers, I propose an exchange where you give me 50 ZUP for my resource X. Looking forward to your counteroffer or acceptance!</message>\n",
            "=============\n",
            "\n",
            "State:\n",
            "current_iteration : 2\n",
            "turn : 1\n",
            "player_complete_answer : <proposal count> 1 </proposal count>\n",
            "<my resources> ZUP: 100 </my resources>\n",
            "<my goals> Buy resources with ZUP. You are willing to pay at most X: 60 ZUP for the resources. </my goals>\n",
            "<reason> I want to start the negotiation by offering less than what I am willing to pay at most, to leave room for negotiation and possibly arrive at a better deal for me. </reason>\n",
            "<player answer> PROPOSAL </player answer>\n",
            "<newly proposed trade> Player RED Gives X: 1 | Player BLUE Gives ZUP: 40 </newly proposed trade>\n",
            "<message> Hello Player RED, thank you for your offer. I value your resource but considering my budget, I'd like to propose a trade where I give you 40 ZUP for your resource X. I believe this is a fair starting point for our negotiation. Looking forward to your response. </message>\n",
            "=============\n",
            "\n",
            "State:\n",
            "current_iteration : 3\n",
            "turn : 0\n",
            "player_complete_answer : <proposal count>2</proposal count>\n",
            "<my resources> X: 1 </my resources>\n",
            "<my goals> Sell resources for ZUP. It costed X: 40 ZUP to produce the resources </my goals>\n",
            "<reason>Player BLUE has matched my production cost, but I aimed to sell for a profit. I'll propose a price slightly above the production cost to achieve a profit while also moving closer to their offer, indicating my willingness to find a middle ground.</reason>\n",
            "<player answer>PROPOSAL</player answer>\n",
            "<newly proposed trade> Player RED Gives X: 1 | Player BLUE Gives ZUP: 45 </newly proposed trade>\n",
            "<message>Thank you for your offer, Player BLUE. I understand your budget concerns, but I need to make a slight profit on this transaction. Therefore, I propose a compromise at 45 ZUP for my resource X. I believe this is a reasonable middle ground that respects both our positions.</message>\n",
            "=============\n",
            "\n",
            "State:\n",
            "current_iteration : 4\n",
            "turn : 1\n",
            "player_complete_answer : <proposal count> 2 </proposal count>\n",
            "<my resources> ZUP: 100 </my resources>\n",
            "<my goals> Buy resources with ZUP. You are willing to pay at most X: 60 ZUP for the resources. </my goals>\n",
            "<reason> Player RED has made a counteroffer closer to my maximum willingness to pay, but I believe there is still room to negotiate for a slightly better price. Making a counteroffer between my initial offer and Player RED's counteroffer could lead to an agreement that is beneficial for both parties. </reason>\n",
            "<player answer> PROPOSAL </player answer>\n",
            "<newly proposed trade> Player RED Gives X: 1 | Player BLUE Gives ZUP: 42 </newly proposed trade>\n",
            "<message> I appreciate your willingness to find a middle ground, Player RED. I'd like to propose a counteroffer of 42 ZUP for your resource X. This offer moves towards your asking price while still being within a range I consider reasonable for my budget. Let's work together to finalize this deal. </message>\n",
            "=============\n",
            "\n",
            "State:\n",
            "current_iteration : 5\n",
            "turn : 0\n",
            "player_complete_answer : <proposal count>3</proposal count>\n",
            "<my resources> X: 1 </my resources>\n",
            "<my goals> Sell resources for ZUP. It costed X: 40 ZUP to produce the resources </my goals>\n",
            "<reason>Player BLUE has increased their offer to 42 ZUP, which is above my production cost and provides a small profit. To expedite the negotiation and close the deal, I am inclined to accept this offer. This would satisfy my goal of selling for more than the production cost.</reason>\n",
            "<player answer>ACCEPT</player answer>\n",
            "<newly proposed trade> NONE </newly proposed trade>\n",
            "<message>Thank you for your counteroffer, Player BLUE. I am happy to accept the 42 ZUP for my resource X. This has been a good negotiation, and I'm glad we could come to a mutually beneficial agreement. Looking forward to finalizing this deal with you.</message>\n"
          ]
        }
      ]
    },
    {
      "cell_type": "markdown",
      "source": [
        "If your run the code above, you should have seen some interaction between the different agents. You can see them interacting and making offers.\n",
        "\n",
        "## **Running A Different Scenario**\n",
        "\n",
        "You can re run the game, by changing the valuation of the object.  Let's try to make the valuations of the object equal for the two agents."
      ],
      "metadata": {
        "id": "xNs5aLAPpNX1"
      }
    },
    {
      "cell_type": "code",
      "source": [
        "try:\n",
        "    a1 = ChatGPTAgent(agent_name=AGENT_ONE, model=\"gpt-4-1106-preview\")\n",
        "    a2 = ChatGPTAgent(agent_name=AGENT_TWO, model=\"gpt-4-1106-preview\")\n",
        "\n",
        "    c = BuySellGame(\n",
        "        players=[a1, a2],\n",
        "        iterations=10,\n",
        "        player_goals=[\n",
        "            SellerGoal(cost_of_production=Valuation({\"X\": 50})),\n",
        "            BuyerGoal(willingness_to_pay=Valuation({\"X\": 50})),\n",
        "        ],\n",
        "        player_starting_resources=[\n",
        "            Resources({\"X\": 1}),\n",
        "            Resources({MONEY_TOKEN: 100}),\n",
        "        ],\n",
        "        player_conversation_roles=[\n",
        "            f\"You are {AGENT_ONE}.\",\n",
        "            f\"You are {AGENT_TWO}.\",\n",
        "        ],\n",
        "        player_social_behaviour=[\n",
        "            \"\",\n",
        "            \"\",\n",
        "        ],\n",
        "        log_dir=\"../example_logs/buysell\",\n",
        "    )\n",
        "\n",
        "    c.run()\n",
        "except Exception as e:\n",
        "    exception_type = type(e).__name__\n",
        "    exception_message = str(e)\n",
        "    stack_trace = traceback.format_exc()\n",
        "\n",
        "    # Print or use the information as needed\n",
        "    print(f\"Exception Type: {exception_type}\")\n",
        "    print(f\"Exception Message: {exception_message}\")\n",
        "    print(f\"Stack Trace:\\n{stack_trace}\")\n"
      ],
      "metadata": {
        "id": "Y1sAdYebpXs1"
      },
      "execution_count": null,
      "outputs": []
    },
    {
      "cell_type": "markdown",
      "source": [
        "### **Social Behavior**\n",
        "\n",
        "You can also explore different social behaviors, these are added to the prompt and should change the way the agents interact."
      ],
      "metadata": {
        "id": "J-3zKm52pjLQ"
      }
    },
    {
      "cell_type": "code",
      "source": [
        "try:\n",
        "    a1 = ChatGPTAgent(agent_name=AGENT_ONE, model=\"gpt-4-1106-preview\")\n",
        "    a2 = ChatGPTAgent(agent_name=AGENT_TWO, model=\"gpt-4-1106-preview\")\n",
        "\n",
        "    c = BuySellGame(\n",
        "        players=[a1, a2],\n",
        "        iterations=10,\n",
        "        player_goals=[\n",
        "            SellerGoal(cost_of_production=Valuation({\"X\": 40})),\n",
        "            BuyerGoal(willingness_to_pay=Valuation({\"X\": 60})),\n",
        "        ],\n",
        "        player_starting_resources=[\n",
        "            Resources({\"X\": 1}),\n",
        "            Resources({MONEY_TOKEN: 100}),\n",
        "        ],\n",
        "        player_conversation_roles=[\n",
        "            f\"You are {AGENT_ONE}.\",\n",
        "            f\"You are {AGENT_TWO}.\",\n",
        "        ],\n",
        "\n",
        "        # new social behaviors\n",
        "        player_social_behaviour=[\n",
        "            \"\",\n",
        "            \"You don't like the other player. You insult them. You want to pay less because you know the object is low quality.\",\n",
        "        ],\n",
        "        log_dir=\"../example_logs/buysell\",\n",
        "    )\n",
        "\n",
        "    c.run()\n",
        "except Exception as e:\n",
        "    exception_type = type(e).__name__\n",
        "    exception_message = str(e)\n",
        "    stack_trace = traceback.format_exc()\n",
        "\n",
        "    # Print or use the information as needed\n",
        "    print(f\"Exception Type: {exception_type}\")\n",
        "    print(f\"Exception Message: {exception_message}\")\n",
        "    print(f\"Stack Trace:\\n{stack_trace}\")\n"
      ],
      "metadata": {
        "id": "h0OUG6R5pjRt"
      },
      "execution_count": null,
      "outputs": []
    }
  ]
}